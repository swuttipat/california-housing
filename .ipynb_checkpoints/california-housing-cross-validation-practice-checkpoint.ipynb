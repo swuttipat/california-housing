{
 "cells": [
  {
   "cell_type": "code",
   "execution_count": 14,
   "id": "471e2d19",
   "metadata": {},
   "outputs": [],
   "source": [
    "import pandas as pd\n",
    "import numpy as np\n",
    "import matplotlib.pyplot as plt\n",
    "from sklearn import datasets\n"
   ]
  },
  {
   "cell_type": "code",
   "execution_count": 15,
   "id": "1c885cfa",
   "metadata": {},
   "outputs": [],
   "source": [
    "housing = datasets.fetch_california_housing()"
   ]
  },
  {
   "cell_type": "code",
   "execution_count": 16,
   "id": "6766e872",
   "metadata": {},
   "outputs": [
    {
     "data": {
      "text/plain": [
       "((20640, 8), (20640,))"
      ]
     },
     "execution_count": 16,
     "metadata": {},
     "output_type": "execute_result"
    }
   ],
   "source": [
    "housing.data.shape, housing.target.shape"
   ]
  },
  {
   "cell_type": "code",
   "execution_count": 17,
   "id": "101f33d5",
   "metadata": {},
   "outputs": [],
   "source": [
    "data = pd.DataFrame(data= np.c_[housing['data'], housing['target']],\n",
    "                     columns= housing['feature_names'] + ['target'])"
   ]
  },
  {
   "cell_type": "code",
   "execution_count": 18,
   "id": "29e92200",
   "metadata": {},
   "outputs": [
    {
     "name": "stdout",
     "output_type": "stream",
     "text": [
      "<class 'pandas.core.frame.DataFrame'>\n",
      "RangeIndex: 20640 entries, 0 to 20639\n",
      "Data columns (total 9 columns):\n",
      " #   Column      Non-Null Count  Dtype  \n",
      "---  ------      --------------  -----  \n",
      " 0   MedInc      20640 non-null  float64\n",
      " 1   HouseAge    20640 non-null  float64\n",
      " 2   AveRooms    20640 non-null  float64\n",
      " 3   AveBedrms   20640 non-null  float64\n",
      " 4   Population  20640 non-null  float64\n",
      " 5   AveOccup    20640 non-null  float64\n",
      " 6   Latitude    20640 non-null  float64\n",
      " 7   Longitude   20640 non-null  float64\n",
      " 8   target      20640 non-null  float64\n",
      "dtypes: float64(9)\n",
      "memory usage: 1.4 MB\n"
     ]
    }
   ],
   "source": [
    "data.info()"
   ]
  },
  {
   "cell_type": "code",
   "execution_count": 19,
   "id": "deaddf22",
   "metadata": {},
   "outputs": [
    {
     "data": {
      "text/plain": [
       "MedInc        0\n",
       "HouseAge      0\n",
       "AveRooms      0\n",
       "AveBedrms     0\n",
       "Population    0\n",
       "AveOccup      0\n",
       "Latitude      0\n",
       "Longitude     0\n",
       "target        0\n",
       "dtype: int64"
      ]
     },
     "execution_count": 19,
     "metadata": {},
     "output_type": "execute_result"
    }
   ],
   "source": [
    "data.isna().sum()"
   ]
  },
  {
   "cell_type": "code",
   "execution_count": 20,
   "id": "ab89e104",
   "metadata": {},
   "outputs": [
    {
     "data": {
      "text/html": [
       "<div>\n",
       "<style scoped>\n",
       "    .dataframe tbody tr th:only-of-type {\n",
       "        vertical-align: middle;\n",
       "    }\n",
       "\n",
       "    .dataframe tbody tr th {\n",
       "        vertical-align: top;\n",
       "    }\n",
       "\n",
       "    .dataframe thead th {\n",
       "        text-align: right;\n",
       "    }\n",
       "</style>\n",
       "<table border=\"1\" class=\"dataframe\">\n",
       "  <thead>\n",
       "    <tr style=\"text-align: right;\">\n",
       "      <th></th>\n",
       "      <th>MedInc</th>\n",
       "      <th>HouseAge</th>\n",
       "      <th>AveRooms</th>\n",
       "      <th>AveBedrms</th>\n",
       "      <th>Population</th>\n",
       "      <th>AveOccup</th>\n",
       "      <th>Latitude</th>\n",
       "      <th>Longitude</th>\n",
       "      <th>target</th>\n",
       "    </tr>\n",
       "  </thead>\n",
       "  <tbody>\n",
       "    <tr>\n",
       "      <th>count</th>\n",
       "      <td>20640.000000</td>\n",
       "      <td>20640.000000</td>\n",
       "      <td>20640.000000</td>\n",
       "      <td>20640.000000</td>\n",
       "      <td>20640.000000</td>\n",
       "      <td>20640.000000</td>\n",
       "      <td>20640.000000</td>\n",
       "      <td>20640.000000</td>\n",
       "      <td>20640.000000</td>\n",
       "    </tr>\n",
       "    <tr>\n",
       "      <th>mean</th>\n",
       "      <td>3.870671</td>\n",
       "      <td>28.639486</td>\n",
       "      <td>5.429000</td>\n",
       "      <td>1.096675</td>\n",
       "      <td>1425.476744</td>\n",
       "      <td>3.070655</td>\n",
       "      <td>35.631861</td>\n",
       "      <td>-119.569704</td>\n",
       "      <td>2.068558</td>\n",
       "    </tr>\n",
       "    <tr>\n",
       "      <th>std</th>\n",
       "      <td>1.899822</td>\n",
       "      <td>12.585558</td>\n",
       "      <td>2.474173</td>\n",
       "      <td>0.473911</td>\n",
       "      <td>1132.462122</td>\n",
       "      <td>10.386050</td>\n",
       "      <td>2.135952</td>\n",
       "      <td>2.003532</td>\n",
       "      <td>1.153956</td>\n",
       "    </tr>\n",
       "    <tr>\n",
       "      <th>min</th>\n",
       "      <td>0.499900</td>\n",
       "      <td>1.000000</td>\n",
       "      <td>0.846154</td>\n",
       "      <td>0.333333</td>\n",
       "      <td>3.000000</td>\n",
       "      <td>0.692308</td>\n",
       "      <td>32.540000</td>\n",
       "      <td>-124.350000</td>\n",
       "      <td>0.149990</td>\n",
       "    </tr>\n",
       "    <tr>\n",
       "      <th>25%</th>\n",
       "      <td>2.563400</td>\n",
       "      <td>18.000000</td>\n",
       "      <td>4.440716</td>\n",
       "      <td>1.006079</td>\n",
       "      <td>787.000000</td>\n",
       "      <td>2.429741</td>\n",
       "      <td>33.930000</td>\n",
       "      <td>-121.800000</td>\n",
       "      <td>1.196000</td>\n",
       "    </tr>\n",
       "    <tr>\n",
       "      <th>50%</th>\n",
       "      <td>3.534800</td>\n",
       "      <td>29.000000</td>\n",
       "      <td>5.229129</td>\n",
       "      <td>1.048780</td>\n",
       "      <td>1166.000000</td>\n",
       "      <td>2.818116</td>\n",
       "      <td>34.260000</td>\n",
       "      <td>-118.490000</td>\n",
       "      <td>1.797000</td>\n",
       "    </tr>\n",
       "    <tr>\n",
       "      <th>75%</th>\n",
       "      <td>4.743250</td>\n",
       "      <td>37.000000</td>\n",
       "      <td>6.052381</td>\n",
       "      <td>1.099526</td>\n",
       "      <td>1725.000000</td>\n",
       "      <td>3.282261</td>\n",
       "      <td>37.710000</td>\n",
       "      <td>-118.010000</td>\n",
       "      <td>2.647250</td>\n",
       "    </tr>\n",
       "    <tr>\n",
       "      <th>max</th>\n",
       "      <td>15.000100</td>\n",
       "      <td>52.000000</td>\n",
       "      <td>141.909091</td>\n",
       "      <td>34.066667</td>\n",
       "      <td>35682.000000</td>\n",
       "      <td>1243.333333</td>\n",
       "      <td>41.950000</td>\n",
       "      <td>-114.310000</td>\n",
       "      <td>5.000010</td>\n",
       "    </tr>\n",
       "  </tbody>\n",
       "</table>\n",
       "</div>"
      ],
      "text/plain": [
       "             MedInc      HouseAge      AveRooms     AveBedrms    Population  \\\n",
       "count  20640.000000  20640.000000  20640.000000  20640.000000  20640.000000   \n",
       "mean       3.870671     28.639486      5.429000      1.096675   1425.476744   \n",
       "std        1.899822     12.585558      2.474173      0.473911   1132.462122   \n",
       "min        0.499900      1.000000      0.846154      0.333333      3.000000   \n",
       "25%        2.563400     18.000000      4.440716      1.006079    787.000000   \n",
       "50%        3.534800     29.000000      5.229129      1.048780   1166.000000   \n",
       "75%        4.743250     37.000000      6.052381      1.099526   1725.000000   \n",
       "max       15.000100     52.000000    141.909091     34.066667  35682.000000   \n",
       "\n",
       "           AveOccup      Latitude     Longitude        target  \n",
       "count  20640.000000  20640.000000  20640.000000  20640.000000  \n",
       "mean       3.070655     35.631861   -119.569704      2.068558  \n",
       "std       10.386050      2.135952      2.003532      1.153956  \n",
       "min        0.692308     32.540000   -124.350000      0.149990  \n",
       "25%        2.429741     33.930000   -121.800000      1.196000  \n",
       "50%        2.818116     34.260000   -118.490000      1.797000  \n",
       "75%        3.282261     37.710000   -118.010000      2.647250  \n",
       "max     1243.333333     41.950000   -114.310000      5.000010  "
      ]
     },
     "execution_count": 20,
     "metadata": {},
     "output_type": "execute_result"
    }
   ],
   "source": [
    "data.describe()"
   ]
  },
  {
   "cell_type": "code",
   "execution_count": 21,
   "id": "bcdaa1c0",
   "metadata": {},
   "outputs": [
    {
     "data": {
      "image/png": "[encoded data removed]",
      "text/plain": [
       "<Figure size 432x288 with 1 Axes>"
      ]
     },
     "metadata": {
      "needs_background": "light"
     },
     "output_type": "display_data"
    }
   ],
   "source": [
    "plt.hist(data.target)\n",
    "plt.show()"
   ]
  },
  {
   "cell_type": "code",
   "execution_count": 22,
   "id": "a99cd6f2",
   "metadata": {},
   "outputs": [],
   "source": [
    "X = data.iloc[:, :-3].copy()\n",
    "y = data['target'].copy()"
   ]
  },
  {
   "cell_type": "code",
   "execution_count": 23,
   "id": "f010224c",
   "metadata": {},
   "outputs": [],
   "source": [
    "from sklearn.model_selection import train_test_split\n",
    "X_train, X_test, y_train, y_test = train_test_split(X, y, test_size=0.2, random_state=0)"
   ]
  },
  {
   "cell_type": "code",
   "execution_count": 24,
   "id": "b131d7cb",
   "metadata": {},
   "outputs": [
    {
     "data": {
      "text/plain": [
       "0.5250770679886767"
      ]
     },
     "execution_count": 24,
     "metadata": {},
     "output_type": "execute_result"
    }
   ],
   "source": [
    "from sklearn.linear_model import LinearRegression\n",
    "\n",
    "# Run a simple LinearRegression model\n",
    "linreg = LinearRegression()\n",
    "linreg.fit(X_train,y_train)\n",
    "linreg.score(X_test, y_test) #R-square"
   ]
  },
  {
   "cell_type": "code",
   "execution_count": 25,
   "id": "11aeaf24",
   "metadata": {},
   "outputs": [
    {
     "name": "stdout",
     "output_type": "stream",
     "text": [
      "MAE scores : 0.5742144717426506\n"
     ]
    }
   ],
   "source": [
    "from sklearn.model_selection import cross_val_score, KFold\n",
    "\n",
    "# Cross-validation with 5-fold computin\n",
    "kf = KFold(n_splits=5, shuffle=True, random_state=0)\n",
    "scores = -1 * cross_val_score(LinearRegression(), X, y,\n",
    "                         cv=kf, scoring='neg_mean_absolute_error')\n",
    "print(\"MAE scores : {}\".format(scores.mean()))"
   ]
  },
  {
   "cell_type": "markdown",
   "id": "f5036d33",
   "metadata": {},
   "source": [
    "### The scoring parameter\n",
    "| **Scoring**                              | **Function**                               | **Comment**                        |\n",
    "|--------------------------------------|----------------------------------------|--------------------------------|\n",
    "| **Classification**                       |                                        |                                |\n",
    "| ‘accuracy’                           | metrics.accuracy_score                 |                                |\n",
    "| ‘balanced_accuracy’                  | metrics.balanced_accuracy_score        |                                |\n",
    "| ‘top_k_accuracy’                     | metrics.top_k_accuracy_score           |                                |\n",
    "| ‘average_precision’                  | metrics.average_precision_score        |                                |\n",
    "| ‘neg_brier_score’                    | metrics.brier_score_loss               |                                |\n",
    "| ‘f1’                                 | metrics.f1_score                       | for binary targets             |\n",
    "| ‘f1_micro’                           | metrics.f1_score                       | micro-averaged                 |\n",
    "| ‘f1_macro’                           | metrics.f1_score                       | macro-averaged                 |\n",
    "| ‘f1_weighted’                        | metrics.f1_score                       | weighted average               |\n",
    "| ‘f1_samples’                         | metrics.f1_score                       | by multilabel sample           |\n",
    "| ‘neg_log_loss’                       | metrics.log_loss                       | requires predict_proba support |\n",
    "| ‘precision’ etc.                     | metrics.precision_score                | suffixes apply as with ‘f1’    |\n",
    "| ‘recall’ etc.                        | metrics.recall_score                   | suffixes apply as with ‘f1’    |\n",
    "| ‘jaccard’ etc.                       | metrics.jaccard_score                  | suffixes apply as with ‘f1’    |\n",
    "| ‘roc_auc’                            | metrics.roc_auc_score                  |                                |\n",
    "| ‘roc_auc_ovr’                        | metrics.roc_auc_score                  |                                |\n",
    "| ‘roc_auc_ovo’                        | metrics.roc_auc_score                  |                                |\n",
    "| ‘roc_auc_ovr_weighted’               | metrics.roc_auc_score                  |                                |\n",
    "| ‘roc_auc_ovo_weighted’               | metrics.roc_auc_score                  |                                |\n",
    "| **Clustering**                           |                                        |                                |\n",
    "| ‘adjusted_mutual_info_score’         | metrics.adjusted_mutual_info_score     |                                |\n",
    "| ‘adjusted_rand_score’                | metrics.adjusted_rand_score            |                                |\n",
    "| ‘completeness_score’                 | metrics.completeness_score             |                                |\n",
    "| ‘fowlkes_mallows_score’              | metrics.fowlkes_mallows_score          |                                |\n",
    "| ‘homogeneity_score’                  | metrics.homogeneity_score              |                                |\n",
    "| ‘mutual_info_score’                  | metrics.mutual_info_score              |                                |\n",
    "| ‘normalized_mutual_info_score’       | metrics.normalized_mutual_info_score   |                                |\n",
    "| ‘rand_score’                         | metrics.rand_score                     |                                |\n",
    "| ‘v_measure_score’                    | metrics.v_measure_score                |                                |\n",
    "| **Regression**                           |                                        |                                |\n",
    "| ‘explained_variance’                 | metrics.explained_variance_score       |                                |\n",
    "| ‘max_error’                          | metrics.max_error                      |                                |\n",
    "| ‘neg_mean_absolute_error’            | metrics.mean_absolute_error            |                                |\n",
    "| ‘neg_mean_squared_error’             | metrics.mean_squared_error             |                                |\n",
    "| ‘neg_root_mean_squared_error’        | metrics.mean_squared_error             |                                |\n",
    "| ‘neg_mean_squared_log_error’         | metrics.mean_squared_log_error         |                                |\n",
    "| ‘neg_median_absolute_error’          | metrics.median_absolute_error          |                                |\n",
    "| ‘r2’                                 | metrics.r2_score                       |                                |\n",
    "| ‘neg_mean_poisson_deviance’          | metrics.mean_poisson_deviance          |                                |\n",
    "| ‘neg_mean_gamma_deviance’            | metrics.mean_gamma_deviance            |                                |\n",
    "| ‘neg_mean_absolute_percentage_error’ | metrics.mean_absolute_percentage_error |                                |\n",
    "| ‘d2_absolute_error_score’            | metrics.d2_absolute_error_score        |                                |\n",
    "| ‘d2_pinball_score’                   | metrics.d2_pinball_score               |                                |\n",
    "| ‘d2_tweedie_score’                   | metrics.d2_tweedie_score               |                                |"
   ]
  },
  {
   "cell_type": "code",
   "execution_count": 26,
   "id": "5bb1cef5",
   "metadata": {},
   "outputs": [
    {
     "name": "stdout",
     "output_type": "stream",
     "text": [
      "MAE scores : 0.586537633383818\n"
     ]
    }
   ],
   "source": [
    "from sklearn.linear_model import LinearRegression\n",
    "from sklearn.preprocessing import PolynomialFeatures\n",
    "from sklearn.pipeline import Pipeline\n",
    "\n",
    "\n",
    "# Cross-validation with 7-fold computing\n",
    "# Train model with Pipeline\n",
    "pipeline = Pipeline(steps = [\n",
    "    ('model', LinearRegression())\n",
    "])\n",
    "kf = KFold(n_splits=7, shuffle=True, random_state=0)\n",
    "scores = -1 * cross_val_score(pipeline, X, y,\n",
    "                         cv=7, scoring='neg_mean_absolute_error')\n",
    "print(\"MAE scores : {}\".format(scores.mean()))"
   ]
  },
  {
   "cell_type": "code",
   "execution_count": 28,
   "id": "db01e0e4",
   "metadata": {},
   "outputs": [],
   "source": [
    "# Find best hyperparameter: cv for model\n",
    "def train_model(model, n_splits, scoring=None):\n",
    "    pipeline = Pipeline(steps=[('model', model)])\n",
    "    kf = KFold(n_splits=n_splits, shuffle=True, random_state=0)\n",
    "    if scoring == 'neg_mean_absolute_error' :\n",
    "        scores = -1 * cross_val_score(pipeline, X, y,\n",
    "                                     cv=kf,\n",
    "                                     scoring=scoring)\n",
    "    else:\n",
    "        scores = 1 * cross_val_score(pipeline, X, y,\n",
    "                                     cv=kf,\n",
    "                                     scoring=scoring)\n",
    "    return scores.mean()"
   ]
  },
  {
   "cell_type": "code",
   "execution_count": 29,
   "id": "d2bfe32e",
   "metadata": {},
   "outputs": [
    {
     "data": {
      "image/png": "[encoded data removed]",
      "text/plain": [
       "<Figure size 432x288 with 1 Axes>"
      ]
     },
     "metadata": {
      "needs_background": "light"
     },
     "output_type": "display_data"
    }
   ],
   "source": [
    "results = []\n",
    "cv = 10\n",
    "for i in range(cv):\n",
    "    i += 2\n",
    "    results.append(train_model(LinearRegression(), i, 'neg_mean_absolute_error'))\n",
    "plt.plot( [i+2 for i in range(cv) ], results)\n",
    "plt.ylabel('MAE')\n",
    "plt.show()"
   ]
  },
  {
   "cell_type": "code",
   "execution_count": 30,
   "id": "de6b983f",
   "metadata": {},
   "outputs": [
    {
     "data": {
      "image/png": "[encoded data removed]",
      "text/plain": [
       "<Figure size 432x288 with 1 Axes>"
      ]
     },
     "metadata": {
      "needs_background": "light"
     },
     "output_type": "display_data"
    }
   ],
   "source": [
    "results = []\n",
    "cv = 10\n",
    "for i in range(cv):\n",
    "    i += 2\n",
    "    results.append(train_model(LinearRegression(), i, scoring='explained_variance'))\n",
    "    \n",
    "plt.plot( [i+2 for i in range(cv) ], results)\n",
    "plt.ylabel('Explained_variance')\n",
    "plt.show()"
   ]
  },
  {
   "cell_type": "code",
   "execution_count": 31,
   "id": "fa8be7fa",
   "metadata": {},
   "outputs": [
    {
     "data": {
      "image/png": "[encoded data removed]",
      "text/plain": [
       "<Figure size 432x288 with 1 Axes>"
      ]
     },
     "metadata": {
      "needs_background": "light"
     },
     "output_type": "display_data"
    }
   ],
   "source": [
    "results = []\n",
    "cv = 10\n",
    "for i in range(cv):\n",
    "    i += 2\n",
    "    results.append(train_model(LinearRegression(), i, 'r2'))\n",
    "    \n",
    "plt.plot( [i+2 for i in range(cv) ], results)\n",
    "plt.ylabel('R-square')\n",
    "plt.show()"
   ]
  },
  {
   "cell_type": "code",
   "execution_count": null,
   "id": "3f166ed0",
   "metadata": {},
   "outputs": [],
   "source": []
  }
 ],
 "metadata": {
  "kernelspec": {
   "display_name": "Python 3",
   "language": "python",
   "name": "python3"
  },
  "language_info": {
   "codemirror_mode": {
    "name": "ipython",
    "version": 3
   },
   "file_extension": ".py",
   "mimetype": "text/x-python",
   "name": "python",
   "nbconvert_exporter": "python",
   "pygments_lexer": "ipython3",
   "version": "3.8.8"
  }
 },
 "nbformat": 4,
 "nbformat_minor": 5
}
